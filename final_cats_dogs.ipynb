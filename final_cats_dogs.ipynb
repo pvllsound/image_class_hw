{
 "cells": [
  {
   "cell_type": "code",
   "execution_count": 1,
   "metadata": {},
   "outputs": [],
   "source": [
    "import pathlib\n",
    "import os\n",
    "\n",
    "# Base directory where the unzipped cats and dogs images are located\n",
    "base_dir = pathlib.Path(\"dogs-vs-cats\")\n",
    "\n",
    "# Directory containing the labeled images\n",
    "original_train_dir = base_dir / \"train\"\n",
    "\n",
    "# New directory structure for training, validation, and testing\n",
    "new_base_dir = pathlib.Path(\"cats_vs_dogs_processed\")\n",
    "new_base_dir.mkdir(exist_ok=True)\n",
    "\n",
    "# Create subdirectories for training, validation, and testing\n",
    "for subset in [\"train\", \"validation\", \"test\"]:\n",
    "    subset_dir = new_base_dir / subset\n",
    "    subset_dir.mkdir(exist_ok=True)\n",
    "    \n",
    "    # Create subdirectories for cats and dogs\n",
    "    for category in [\"cat\", \"dog\"]:\n",
    "        category_dir = subset_dir / category\n",
    "        category_dir.mkdir(exist_ok=True)"
   ]
  },
  {
   "cell_type": "code",
   "execution_count": 2,
   "metadata": {},
   "outputs": [
    {
     "name": "stdout",
     "output_type": "stream",
     "text": [
      "c:\\Users\\andyp\\Downloads\\DT & ML\\ex_06_10_end_of_class\n"
     ]
    }
   ],
   "source": [
    "# Print the current working directory\n",
    "print(os.getcwd())"
   ]
  },
  {
   "cell_type": "code",
   "execution_count": 3,
   "metadata": {},
   "outputs": [
    {
     "name": "stdout",
     "output_type": "stream",
     "text": [
      "True\n"
     ]
    }
   ],
   "source": [
    "# Check if the file exists\n",
    "file_path = original_train_dir / \"cat.0.jpg\"\n",
    "print(file_path.exists())"
   ]
  },
  {
   "cell_type": "code",
   "execution_count": 4,
   "metadata": {},
   "outputs": [
    {
     "name": "stdout",
     "output_type": "stream",
     "text": [
      "[WindowsPath('dogs-vs-cats/train/cat.0.jpg'), WindowsPath('dogs-vs-cats/train/cat.1.jpg'), WindowsPath('dogs-vs-cats/train/cat.10.jpg'), WindowsPath('dogs-vs-cats/train/cat.100.jpg'), WindowsPath('dogs-vs-cats/train/cat.1000.jpg'), WindowsPath('dogs-vs-cats/train/cat.10000.jpg'), WindowsPath('dogs-vs-cats/train/cat.10001.jpg'), WindowsPath('dogs-vs-cats/train/cat.10002.jpg'), WindowsPath('dogs-vs-cats/train/cat.10003.jpg'), WindowsPath('dogs-vs-cats/train/cat.10004.jpg')]\n"
     ]
    }
   ],
   "source": [
    "# List the first 10 files in the directory\n",
    "print(list(original_train_dir.iterdir())[:10])"
   ]
  },
  {
   "cell_type": "code",
   "execution_count": 5,
   "metadata": {},
   "outputs": [],
   "source": [
    "import shutil\n",
    "\n",
    "def make_subset(subset_name, start_index, end_index):\n",
    "    \"\"\"Move a subset of images to the respective directory.\"\"\"\n",
    "    for category in [\"cat\", \"dog\"]:\n",
    "        # Define the source and destination directories\n",
    "        dir = new_base_dir / subset_name / category\n",
    "        f_names = [f\"{category}.{i}.jpg\" for i in range(start_index, end_index)]\n",
    "        \n",
    "        # Copy the images\n",
    "        for f_name in f_names:\n",
    "            shutil.copyfile(src=original_train_dir / f_name, dst=dir / f_name)\n",
    "\n",
    "# Move the images\n",
    "make_subset(\"train\", start_index=0, end_index=1000)\n",
    "make_subset(\"validation\", start_index=1000, end_index=1500)\n",
    "make_subset(\"test\", start_index=1500, end_index=2000)"
   ]
  },
  {
   "cell_type": "code",
   "execution_count": 7,
   "metadata": {},
   "outputs": [
    {
     "name": "stdout",
     "output_type": "stream",
     "text": [
      "Found 2000 files belonging to 2 classes.\n",
      "Found 1000 files belonging to 2 classes.\n",
      "Found 1000 files belonging to 2 classes.\n"
     ]
    }
   ],
   "source": [
    "import tensorflow as tf\n",
    "from tensorflow.keras.preprocessing import image_dataset_from_directory\n",
    "\n",
    "# Set a seed for reproducibility\n",
    "seed = 1337\n",
    "\n",
    "# Load the training dataset\n",
    "train_dataset = image_dataset_from_directory(\n",
    "    new_base_dir / \"train\",\n",
    "    image_size=(180, 180),\n",
    "    batch_size=32,\n",
    "    shuffle=True,  # Shuffle the training data\n",
    "    seed=seed      # Set seed for reproducibility\n",
    ")\n",
    "\n",
    "# Load the validation dataset\n",
    "validation_dataset = image_dataset_from_directory(\n",
    "    new_base_dir / \"validation\",\n",
    "    image_size=(180, 180),\n",
    "    batch_size=32,\n",
    "    shuffle=False,  # No need to shuffle validation data\n",
    "    seed=seed       # Set seed for reproducibility\n",
    ")\n",
    "\n",
    "# Load the test dataset\n",
    "test_dataset = image_dataset_from_directory(\n",
    "    new_base_dir / \"test\",\n",
    "    image_size=(180, 180),\n",
    "    batch_size=32,\n",
    "    shuffle=False,  # No need to shuffle test data\n",
    "    seed=seed       # Set seed for reproducibility\n",
    ")"
   ]
  },
  {
   "cell_type": "code",
   "execution_count": 9,
   "metadata": {},
   "outputs": [],
   "source": [
    "from tensorflow import keras\n",
    "from tensorflow.keras import layers\n",
    "from tensorflow.keras.utils import image_dataset_from_directory\n",
    "\n",
    "import numpy as np\n",
    "import matplotlib.pyplot as plt"
   ]
  },
  {
   "cell_type": "code",
   "execution_count": 10,
   "metadata": {},
   "outputs": [],
   "source": [
    "conv_base = keras.applications.vgg16.VGG16(\n",
    "    weights=\"imagenet\", include_top=False, input_shape=(180, 180, 3)\n",
    ")"
   ]
  },
  {
   "cell_type": "code",
   "execution_count": 11,
   "metadata": {},
   "outputs": [
    {
     "name": "stdout",
     "output_type": "stream",
     "text": [
      "Model: \"vgg16\"\n",
      "_________________________________________________________________\n",
      " Layer (type)                Output Shape              Param #   \n",
      "=================================================================\n",
      " input_1 (InputLayer)        [(None, 180, 180, 3)]     0         \n",
      "                                                                 \n",
      " block1_conv1 (Conv2D)       (None, 180, 180, 64)      1792      \n",
      "                                                                 \n",
      " block1_conv2 (Conv2D)       (None, 180, 180, 64)      36928     \n",
      "                                                                 \n",
      " block1_pool (MaxPooling2D)  (None, 90, 90, 64)        0         \n",
      "                                                                 \n",
      " block2_conv1 (Conv2D)       (None, 90, 90, 128)       73856     \n",
      "                                                                 \n",
      " block2_conv2 (Conv2D)       (None, 90, 90, 128)       147584    \n",
      "                                                                 \n",
      " block2_pool (MaxPooling2D)  (None, 45, 45, 128)       0         \n",
      "                                                                 \n",
      " block3_conv1 (Conv2D)       (None, 45, 45, 256)       295168    \n",
      "                                                                 \n",
      " block3_conv2 (Conv2D)       (None, 45, 45, 256)       590080    \n",
      "                                                                 \n",
      " block3_conv3 (Conv2D)       (None, 45, 45, 256)       590080    \n",
      "                                                                 \n",
      " block3_pool (MaxPooling2D)  (None, 22, 22, 256)       0         \n",
      "                                                                 \n",
      " block4_conv1 (Conv2D)       (None, 22, 22, 512)       1180160   \n",
      "                                                                 \n",
      " block4_conv2 (Conv2D)       (None, 22, 22, 512)       2359808   \n",
      "                                                                 \n",
      " block4_conv3 (Conv2D)       (None, 22, 22, 512)       2359808   \n",
      "                                                                 \n",
      " block4_pool (MaxPooling2D)  (None, 11, 11, 512)       0         \n",
      "                                                                 \n",
      " block5_conv1 (Conv2D)       (None, 11, 11, 512)       2359808   \n",
      "                                                                 \n",
      " block5_conv2 (Conv2D)       (None, 11, 11, 512)       2359808   \n",
      "                                                                 \n",
      " block5_conv3 (Conv2D)       (None, 11, 11, 512)       2359808   \n",
      "                                                                 \n",
      " block5_pool (MaxPooling2D)  (None, 5, 5, 512)         0         \n",
      "                                                                 \n",
      "=================================================================\n",
      "Total params: 14714688 (56.13 MB)\n",
      "Trainable params: 14714688 (56.13 MB)\n",
      "Non-trainable params: 0 (0.00 Byte)\n",
      "_________________________________________________________________\n"
     ]
    }
   ],
   "source": [
    "conv_base.summary()"
   ]
  },
  {
   "cell_type": "code",
   "execution_count": 12,
   "metadata": {},
   "outputs": [],
   "source": [
    "conv_base.trainable = False"
   ]
  },
  {
   "cell_type": "code",
   "execution_count": 13,
   "metadata": {},
   "outputs": [],
   "source": [
    "data_augmentation = keras.Sequential(\n",
    "    [\n",
    "      layers.RandomFlip(\"horizontal\"),\n",
    "      layers.RandomRotation(0.1),\n",
    "      layers.RandomZoom(0.2)\n",
    "    ]\n",
    ")"
   ]
  },
  {
   "cell_type": "code",
   "execution_count": 14,
   "metadata": {},
   "outputs": [],
   "source": [
    "inputs = keras.Input(shape=(180, 180, 3))\n",
    "\n",
    "x = data_augmentation(inputs)\n",
    "x = keras.applications.vgg16.preprocess_input(x)\n",
    "x = conv_base(x)\n",
    "x = layers.Flatten()(x)\n",
    "x = layers.Dense(256)(x)\n",
    "x = layers.Dropout(0.5)(x)\n",
    "\n",
    "outputs = layers.Dense(1, activation=\"sigmoid\")(x)\n",
    "\n",
    "model = keras.Model(inputs, outputs)\n",
    "model.compile(loss=\"binary_crossentropy\", optimizer=\"rmsprop\", metrics=[\"accuracy\"])"
   ]
  },
  {
   "cell_type": "code",
   "execution_count": 15,
   "metadata": {},
   "outputs": [],
   "source": [
    "callbacks = [\n",
    "    keras.callbacks.ModelCheckpoint(\n",
    "        filepath=\"feature_extraction_with_data_augmentation_vgg16.x\",\n",
    "        save_best_only=True,\n",
    "        monitor=\"val_loss\"\n",
    "    )\n",
    "]"
   ]
  },
  {
   "cell_type": "code",
   "execution_count": 16,
   "metadata": {},
   "outputs": [
    {
     "name": "stdout",
     "output_type": "stream",
     "text": [
      "2.14.0\n"
     ]
    }
   ],
   "source": [
    "print(tf.__version__)"
   ]
  },
  {
   "cell_type": "code",
   "execution_count": 17,
   "metadata": {},
   "outputs": [
    {
     "name": "stdout",
     "output_type": "stream",
     "text": [
      "Epoch 1/50\n"
     ]
    },
    {
     "name": "stdout",
     "output_type": "stream",
     "text": [
      "63/63 [==============================] - ETA: 0s - loss: 17.3359 - accuracy: 0.8955INFO:tensorflow:Assets written to: feature_extraction_with_data_augmentation_vgg16.x\\assets\n"
     ]
    },
    {
     "name": "stderr",
     "output_type": "stream",
     "text": [
      "INFO:tensorflow:Assets written to: feature_extraction_with_data_augmentation_vgg16.x\\assets\n"
     ]
    },
    {
     "name": "stdout",
     "output_type": "stream",
     "text": [
      "63/63 [==============================] - 112s 2s/step - loss: 17.3359 - accuracy: 0.8955 - val_loss: 7.1544 - val_accuracy: 0.9570\n",
      "Epoch 2/50\n",
      "63/63 [==============================] - ETA: 0s - loss: 8.8522 - accuracy: 0.9365INFO:tensorflow:Assets written to: feature_extraction_with_data_augmentation_vgg16.x\\assets\n"
     ]
    },
    {
     "name": "stderr",
     "output_type": "stream",
     "text": [
      "INFO:tensorflow:Assets written to: feature_extraction_with_data_augmentation_vgg16.x\\assets\n"
     ]
    },
    {
     "name": "stdout",
     "output_type": "stream",
     "text": [
      "63/63 [==============================] - 119s 2s/step - loss: 8.8522 - accuracy: 0.9365 - val_loss: 3.3478 - val_accuracy: 0.9720\n",
      "Epoch 3/50\n",
      "63/63 [==============================] - 119s 2s/step - loss: 4.8382 - accuracy: 0.9600 - val_loss: 5.7501 - val_accuracy: 0.9730\n",
      "Epoch 4/50\n",
      "63/63 [==============================] - 121s 2s/step - loss: 5.2606 - accuracy: 0.9560 - val_loss: 7.0017 - val_accuracy: 0.9620\n",
      "Epoch 5/50\n",
      "63/63 [==============================] - 124s 2s/step - loss: 4.6942 - accuracy: 0.9650 - val_loss: 7.7963 - val_accuracy: 0.9580\n",
      "Epoch 6/50\n",
      "63/63 [==============================] - 123s 2s/step - loss: 4.8683 - accuracy: 0.9635 - val_loss: 4.0387 - val_accuracy: 0.9710\n",
      "Epoch 7/50\n",
      "63/63 [==============================] - 116s 2s/step - loss: 3.1725 - accuracy: 0.9690 - val_loss: 4.2611 - val_accuracy: 0.9810\n",
      "Epoch 8/50\n",
      "63/63 [==============================] - ETA: 0s - loss: 3.8198 - accuracy: 0.9695INFO:tensorflow:Assets written to: feature_extraction_with_data_augmentation_vgg16.x\\assets\n"
     ]
    },
    {
     "name": "stderr",
     "output_type": "stream",
     "text": [
      "INFO:tensorflow:Assets written to: feature_extraction_with_data_augmentation_vgg16.x\\assets\n"
     ]
    },
    {
     "name": "stdout",
     "output_type": "stream",
     "text": [
      "63/63 [==============================] - 230s 4s/step - loss: 3.8198 - accuracy: 0.9695 - val_loss: 2.3143 - val_accuracy: 0.9790\n",
      "Epoch 9/50\n",
      "63/63 [==============================] - 229s 4s/step - loss: 3.0221 - accuracy: 0.9730 - val_loss: 3.0686 - val_accuracy: 0.9780\n",
      "Epoch 10/50\n",
      "63/63 [==============================] - 151s 2s/step - loss: 2.9312 - accuracy: 0.9750 - val_loss: 2.7895 - val_accuracy: 0.9790\n",
      "Epoch 11/50\n",
      "63/63 [==============================] - 139s 2s/step - loss: 1.6824 - accuracy: 0.9805 - val_loss: 3.2866 - val_accuracy: 0.9820\n",
      "Epoch 12/50\n",
      "63/63 [==============================] - 138s 2s/step - loss: 2.4283 - accuracy: 0.9790 - val_loss: 3.5297 - val_accuracy: 0.9750\n",
      "Epoch 13/50\n",
      "63/63 [==============================] - 143s 2s/step - loss: 1.7268 - accuracy: 0.9805 - val_loss: 2.7646 - val_accuracy: 0.9790\n",
      "Epoch 14/50\n",
      "63/63 [==============================] - 140s 2s/step - loss: 1.8162 - accuracy: 0.9790 - val_loss: 4.4335 - val_accuracy: 0.9660\n",
      "Epoch 15/50\n",
      "63/63 [==============================] - 156s 2s/step - loss: 1.5120 - accuracy: 0.9860 - val_loss: 3.6108 - val_accuracy: 0.9760\n",
      "Epoch 16/50\n",
      "63/63 [==============================] - 144s 2s/step - loss: 1.4893 - accuracy: 0.9825 - val_loss: 3.5471 - val_accuracy: 0.9780\n",
      "Epoch 17/50\n",
      "63/63 [==============================] - 149s 2s/step - loss: 1.8194 - accuracy: 0.9820 - val_loss: 4.3131 - val_accuracy: 0.9670\n",
      "Epoch 18/50\n",
      "63/63 [==============================] - ETA: 0s - loss: 1.7559 - accuracy: 0.9830INFO:tensorflow:Assets written to: feature_extraction_with_data_augmentation_vgg16.x\\assets\n"
     ]
    },
    {
     "name": "stderr",
     "output_type": "stream",
     "text": [
      "INFO:tensorflow:Assets written to: feature_extraction_with_data_augmentation_vgg16.x\\assets\n"
     ]
    },
    {
     "name": "stdout",
     "output_type": "stream",
     "text": [
      "63/63 [==============================] - 148s 2s/step - loss: 1.7559 - accuracy: 0.9830 - val_loss: 2.0948 - val_accuracy: 0.9790\n",
      "Epoch 19/50\n",
      "63/63 [==============================] - 146s 2s/step - loss: 1.3678 - accuracy: 0.9830 - val_loss: 2.4596 - val_accuracy: 0.9760\n",
      "Epoch 20/50\n",
      "63/63 [==============================] - 146s 2s/step - loss: 1.7643 - accuracy: 0.9785 - val_loss: 2.7937 - val_accuracy: 0.9780\n",
      "Epoch 21/50\n",
      "63/63 [==============================] - 144s 2s/step - loss: 1.3455 - accuracy: 0.9790 - val_loss: 2.2130 - val_accuracy: 0.9810\n",
      "Epoch 22/50\n",
      "63/63 [==============================] - 146s 2s/step - loss: 1.5853 - accuracy: 0.9830 - val_loss: 2.2904 - val_accuracy: 0.9830\n",
      "Epoch 23/50\n",
      "63/63 [==============================] - ETA: 0s - loss: 1.1244 - accuracy: 0.9860INFO:tensorflow:Assets written to: feature_extraction_with_data_augmentation_vgg16.x\\assets\n"
     ]
    },
    {
     "name": "stderr",
     "output_type": "stream",
     "text": [
      "INFO:tensorflow:Assets written to: feature_extraction_with_data_augmentation_vgg16.x\\assets\n"
     ]
    },
    {
     "name": "stdout",
     "output_type": "stream",
     "text": [
      "63/63 [==============================] - 144s 2s/step - loss: 1.1244 - accuracy: 0.9860 - val_loss: 2.0103 - val_accuracy: 0.9810\n",
      "Epoch 24/50\n",
      "63/63 [==============================] - 145s 2s/step - loss: 0.8953 - accuracy: 0.9875 - val_loss: 3.5296 - val_accuracy: 0.9750\n",
      "Epoch 25/50\n",
      "63/63 [==============================] - 140s 2s/step - loss: 0.9847 - accuracy: 0.9890 - val_loss: 2.4036 - val_accuracy: 0.9790\n",
      "Epoch 26/50\n",
      "63/63 [==============================] - ETA: 0s - loss: 1.0967 - accuracy: 0.9845INFO:tensorflow:Assets written to: feature_extraction_with_data_augmentation_vgg16.x\\assets\n"
     ]
    },
    {
     "name": "stderr",
     "output_type": "stream",
     "text": [
      "INFO:tensorflow:Assets written to: feature_extraction_with_data_augmentation_vgg16.x\\assets\n"
     ]
    },
    {
     "name": "stdout",
     "output_type": "stream",
     "text": [
      "63/63 [==============================] - 141s 2s/step - loss: 1.0967 - accuracy: 0.9845 - val_loss: 1.9517 - val_accuracy: 0.9820\n",
      "Epoch 27/50\n",
      "63/63 [==============================] - 138s 2s/step - loss: 1.1629 - accuracy: 0.9840 - val_loss: 2.5012 - val_accuracy: 0.9760\n",
      "Epoch 28/50\n",
      "63/63 [==============================] - 139s 2s/step - loss: 1.0744 - accuracy: 0.9815 - val_loss: 2.5704 - val_accuracy: 0.9790\n",
      "Epoch 29/50\n",
      "63/63 [==============================] - ETA: 0s - loss: 0.6940 - accuracy: 0.9880INFO:tensorflow:Assets written to: feature_extraction_with_data_augmentation_vgg16.x\\assets\n"
     ]
    },
    {
     "name": "stderr",
     "output_type": "stream",
     "text": [
      "INFO:tensorflow:Assets written to: feature_extraction_with_data_augmentation_vgg16.x\\assets\n"
     ]
    },
    {
     "name": "stdout",
     "output_type": "stream",
     "text": [
      "63/63 [==============================] - 139s 2s/step - loss: 0.6940 - accuracy: 0.9880 - val_loss: 1.8218 - val_accuracy: 0.9820\n",
      "Epoch 30/50\n",
      "63/63 [==============================] - 135s 2s/step - loss: 0.7344 - accuracy: 0.9860 - val_loss: 2.2689 - val_accuracy: 0.9790\n",
      "Epoch 31/50\n",
      "63/63 [==============================] - 135s 2s/step - loss: 0.5011 - accuracy: 0.9870 - val_loss: 1.8531 - val_accuracy: 0.9820\n",
      "Epoch 32/50\n",
      "63/63 [==============================] - ETA: 0s - loss: 0.8196 - accuracy: 0.9870INFO:tensorflow:Assets written to: feature_extraction_with_data_augmentation_vgg16.x\\assets\n"
     ]
    },
    {
     "name": "stderr",
     "output_type": "stream",
     "text": [
      "INFO:tensorflow:Assets written to: feature_extraction_with_data_augmentation_vgg16.x\\assets\n"
     ]
    },
    {
     "name": "stdout",
     "output_type": "stream",
     "text": [
      "63/63 [==============================] - 137s 2s/step - loss: 0.8196 - accuracy: 0.9870 - val_loss: 1.5722 - val_accuracy: 0.9790\n",
      "Epoch 33/50\n",
      "63/63 [==============================] - ETA: 0s - loss: 0.9119 - accuracy: 0.9865INFO:tensorflow:Assets written to: feature_extraction_with_data_augmentation_vgg16.x\\assets\n"
     ]
    },
    {
     "name": "stderr",
     "output_type": "stream",
     "text": [
      "INFO:tensorflow:Assets written to: feature_extraction_with_data_augmentation_vgg16.x\\assets\n"
     ]
    },
    {
     "name": "stdout",
     "output_type": "stream",
     "text": [
      "63/63 [==============================] - 137s 2s/step - loss: 0.9119 - accuracy: 0.9865 - val_loss: 1.5712 - val_accuracy: 0.9820\n",
      "Epoch 34/50\n",
      "63/63 [==============================] - 137s 2s/step - loss: 0.7014 - accuracy: 0.9880 - val_loss: 2.4260 - val_accuracy: 0.9760\n",
      "Epoch 35/50\n",
      "63/63 [==============================] - 142s 2s/step - loss: 1.0659 - accuracy: 0.9870 - val_loss: 2.8099 - val_accuracy: 0.9760\n",
      "Epoch 36/50\n",
      "63/63 [==============================] - 137s 2s/step - loss: 0.8210 - accuracy: 0.9890 - val_loss: 1.7515 - val_accuracy: 0.9790\n",
      "Epoch 37/50\n",
      "63/63 [==============================] - ETA: 0s - loss: 0.3131 - accuracy: 0.9930INFO:tensorflow:Assets written to: feature_extraction_with_data_augmentation_vgg16.x\\assets\n"
     ]
    },
    {
     "name": "stderr",
     "output_type": "stream",
     "text": [
      "INFO:tensorflow:Assets written to: feature_extraction_with_data_augmentation_vgg16.x\\assets\n"
     ]
    },
    {
     "name": "stdout",
     "output_type": "stream",
     "text": [
      "63/63 [==============================] - 140s 2s/step - loss: 0.3131 - accuracy: 0.9930 - val_loss: 1.5578 - val_accuracy: 0.9780\n",
      "Epoch 38/50\n",
      "63/63 [==============================] - 139s 2s/step - loss: 0.4235 - accuracy: 0.9890 - val_loss: 2.5903 - val_accuracy: 0.9740\n",
      "Epoch 39/50\n",
      "63/63 [==============================] - 139s 2s/step - loss: 0.3208 - accuracy: 0.9930 - val_loss: 1.8319 - val_accuracy: 0.9740\n",
      "Epoch 40/50\n",
      "63/63 [==============================] - 143s 2s/step - loss: 0.5455 - accuracy: 0.9875 - val_loss: 1.8639 - val_accuracy: 0.9770\n",
      "Epoch 41/50\n",
      "63/63 [==============================] - 140s 2s/step - loss: 0.4801 - accuracy: 0.9875 - val_loss: 2.2970 - val_accuracy: 0.9760\n",
      "Epoch 42/50\n",
      "63/63 [==============================] - ETA: 0s - loss: 0.5317 - accuracy: 0.9880INFO:tensorflow:Assets written to: feature_extraction_with_data_augmentation_vgg16.x\\assets\n"
     ]
    },
    {
     "name": "stderr",
     "output_type": "stream",
     "text": [
      "INFO:tensorflow:Assets written to: feature_extraction_with_data_augmentation_vgg16.x\\assets\n"
     ]
    },
    {
     "name": "stdout",
     "output_type": "stream",
     "text": [
      "63/63 [==============================] - 141s 2s/step - loss: 0.5317 - accuracy: 0.9880 - val_loss: 1.5315 - val_accuracy: 0.9830\n",
      "Epoch 43/50\n",
      "63/63 [==============================] - 139s 2s/step - loss: 0.5203 - accuracy: 0.9885 - val_loss: 1.8078 - val_accuracy: 0.9830\n",
      "Epoch 44/50\n",
      "63/63 [==============================] - 137s 2s/step - loss: 0.7298 - accuracy: 0.9890 - val_loss: 2.3783 - val_accuracy: 0.9790\n",
      "Epoch 45/50\n",
      "63/63 [==============================] - 139s 2s/step - loss: 0.3526 - accuracy: 0.9905 - val_loss: 1.9835 - val_accuracy: 0.9790\n",
      "Epoch 46/50\n",
      "63/63 [==============================] - 136s 2s/step - loss: 0.4788 - accuracy: 0.9870 - val_loss: 2.4724 - val_accuracy: 0.9750\n",
      "Epoch 47/50\n",
      "63/63 [==============================] - 110s 2s/step - loss: 0.3892 - accuracy: 0.9910 - val_loss: 2.6643 - val_accuracy: 0.9740\n",
      "Epoch 48/50\n",
      "63/63 [==============================] - 110s 2s/step - loss: 0.6265 - accuracy: 0.9890 - val_loss: 2.1243 - val_accuracy: 0.9800\n",
      "Epoch 49/50\n",
      "63/63 [==============================] - 112s 2s/step - loss: 0.5168 - accuracy: 0.9900 - val_loss: 2.8874 - val_accuracy: 0.9730\n",
      "Epoch 50/50\n",
      "63/63 [==============================] - 114s 2s/step - loss: 0.5742 - accuracy: 0.9900 - val_loss: 1.9404 - val_accuracy: 0.9810\n"
     ]
    }
   ],
   "source": [
    "history = model.fit(\n",
    "    train_dataset, epochs=50, validation_data=validation_dataset, callbacks=callbacks\n",
    ")"
   ]
  },
  {
   "cell_type": "code",
   "execution_count": 18,
   "metadata": {},
   "outputs": [
    {
     "data": {
      "image/png": "[encoded data removed]",
      "text/plain": [
       "<Figure size 640x480 with 1 Axes>"
      ]
     },
     "metadata": {},
     "output_type": "display_data"
    }
   ],
   "source": [
    "accuracy = history.history[\"accuracy\"]\n",
    "val_accuracy = history.history[\"val_accuracy\"]\n",
    "loss = history.history[\"loss\"]\n",
    "val_loss = history.history[\"val_loss\"]\n",
    "epochs = range(1, len(accuracy) + 1)\n",
    "\n",
    "plt.plot(epochs, accuracy, \"b\", label=\"Training Accuracy\")\n",
    "plt.plot(epochs, val_accuracy, \"r\", label=\"Validation Accuracy\")\n",
    "plt.show()"
   ]
  },
  {
   "cell_type": "code",
   "execution_count": 19,
   "metadata": {},
   "outputs": [
    {
     "data": {
      "image/png": "[encoded data removed]",
      "text/plain": [
       "<Figure size 640x480 with 1 Axes>"
      ]
     },
     "metadata": {},
     "output_type": "display_data"
    }
   ],
   "source": [
    "plt.plot(epochs, loss, \"b\", label=\"Training Loss\")\n",
    "plt.plot(epochs, val_loss, \"r\", label=\"Validation Loss\")\n",
    "plt.show()"
   ]
  },
  {
   "cell_type": "code",
   "execution_count": 20,
   "metadata": {},
   "outputs": [
    {
     "name": "stdout",
     "output_type": "stream",
     "text": [
      "32/32 [==============================] - 37s 1s/step - loss: 2.6762 - accuracy: 0.9770\n",
      "Accuracy: 0.9769999980926514, Loss: 2.6762278079986572\n"
     ]
    }
   ],
   "source": [
    "test_model = keras.models.load_model(\"feature_extraction_with_data_augmentation_vgg16.x\")\n",
    "test_loss, test_accuracy = test_model.evaluate(test_dataset)\n",
    "\n",
    "print(f\"Accuracy: {test_accuracy}, Loss: {test_loss}\")"
   ]
  }
 ],
 "metadata": {
  "kernelspec": {
   "display_name": ".venv",
   "language": "python",
   "name": "python3"
  },
  "language_info": {
   "codemirror_mode": {
    "name": "ipython",
    "version": 3
   },
   "file_extension": ".py",
   "mimetype": "text/x-python",
   "name": "python",
   "nbconvert_exporter": "python",
   "pygments_lexer": "ipython3",
   "version": "3.11.6"
  }
 },
 "nbformat": 4,
 "nbformat_minor": 2
}
